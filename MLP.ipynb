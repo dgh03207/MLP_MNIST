{
 "cells": [
  {
   "cell_type": "code",
   "execution_count": 1,
   "metadata": {},
   "outputs": [
    {
     "name": "stdout",
     "output_type": "stream",
     "text": [
      "WARNING:tensorflow:From C:\\Users\\dgh03\\anaconda3\\lib\\site-packages\\tensorflow\\python\\compat\\v2_compat.py:96: disable_resource_variables (from tensorflow.python.ops.variable_scope) is deprecated and will be removed in a future version.\n",
      "Instructions for updating:\n",
      "non-resource variables are not supported in the long term\n",
      "WARNING:tensorflow:From <ipython-input-1-a81bb8280236>:7: read_data_sets (from tensorflow.examples.tutorials.mnist.input_data) is deprecated and will be removed in a future version.\n",
      "Instructions for updating:\n",
      "Please use alternatives such as: tensorflow_datasets.load('mnist')\n",
      "WARNING:tensorflow:From C:\\Users\\dgh03\\anaconda3\\lib\\site-packages\\tensorflow\\examples\\tutorials\\mnist\\input_data.py:297: _maybe_download (from tensorflow.examples.tutorials.mnist.input_data) is deprecated and will be removed in a future version.\n",
      "Instructions for updating:\n",
      "Please write your own downloading logic.\n",
      "WARNING:tensorflow:From C:\\Users\\dgh03\\anaconda3\\lib\\site-packages\\tensorflow\\examples\\tutorials\\mnist\\input_data.py:299: _extract_images (from tensorflow.examples.tutorials.mnist.input_data) is deprecated and will be removed in a future version.\n",
      "Instructions for updating:\n",
      "Please use tf.data to implement this functionality.\n",
      "Extracting MNIST_data/train-images-idx3-ubyte.gz\n",
      "WARNING:tensorflow:From C:\\Users\\dgh03\\anaconda3\\lib\\site-packages\\tensorflow\\examples\\tutorials\\mnist\\input_data.py:304: _extract_labels (from tensorflow.examples.tutorials.mnist.input_data) is deprecated and will be removed in a future version.\n",
      "Instructions for updating:\n",
      "Please use tf.data to implement this functionality.\n",
      "Extracting MNIST_data/train-labels-idx1-ubyte.gz\n",
      "WARNING:tensorflow:From C:\\Users\\dgh03\\anaconda3\\lib\\site-packages\\tensorflow\\examples\\tutorials\\mnist\\input_data.py:112: _dense_to_one_hot (from tensorflow.examples.tutorials.mnist.input_data) is deprecated and will be removed in a future version.\n",
      "Instructions for updating:\n",
      "Please use tf.one_hot on tensors.\n",
      "Extracting MNIST_data/t10k-images-idx3-ubyte.gz\n",
      "Extracting MNIST_data/t10k-labels-idx1-ubyte.gz\n",
      "WARNING:tensorflow:From C:\\Users\\dgh03\\anaconda3\\lib\\site-packages\\tensorflow\\examples\\tutorials\\mnist\\input_data.py:328: _DataSet.__init__ (from tensorflow.examples.tutorials.mnist.input_data) is deprecated and will be removed in a future version.\n",
      "Instructions for updating:\n",
      "Please use alternatives such as official/mnist/_DataSet.py from tensorflow/models.\n"
     ]
    }
   ],
   "source": [
    "import numpy as np\n",
    "import tensorflow as tf\n",
    "from tensorflow.examples.tutorials.mnist import input_data\n",
    "import tensorflow.compat.v1 as tf\n",
    "tf.disable_v2_behavior()\n",
    "\n",
    "mnist = input_data.read_data_sets(\"MNIST_data/\", one_hot=True)"
   ]
  },
  {
   "cell_type": "code",
   "execution_count": 2,
   "metadata": {},
   "outputs": [],
   "source": [
    "def xaver_init(n_inputs, n_outputs, uniform = True):\n",
    "    if uniform:\n",
    "        init_range = tf.sqrt(6.0/ (n_inputs + n_outputs))\n",
    "        return tf.random_uniform_initializer(-init_range, init_range)\n",
    "\n",
    "    else:\n",
    "        stddev = tf.sqrt(3.0 / (n_inputs + n_outputs))\n",
    "        return tf.truncated_normal_initializer(stddev=stddev)\n"
   ]
  },
  {
   "cell_type": "code",
   "execution_count": 3,
   "metadata": {},
   "outputs": [],
   "source": [
    "input_size = 784\n",
    "output_size = 10\n",
    "hidden_layer_size = 50\n",
    "learning_rate = 0.001\n"
   ]
  },
  {
   "cell_type": "code",
   "execution_count": 4,
   "metadata": {},
   "outputs": [
    {
     "name": "stdout",
     "output_type": "stream",
     "text": [
      "WARNING:tensorflow:From <ipython-input-4-195e25d9e88e>:24: calling dropout (from tensorflow.python.ops.nn_ops) with keep_prob is deprecated and will be removed in a future version.\n",
      "Instructions for updating:\n",
      "Please use `rate` instead of `keep_prob`. Rate should be set to `rate = 1 - keep_prob`.\n"
     ]
    }
   ],
   "source": [
    "\n",
    "# tf.reset_default_graph()          #clears the memory of all variables left from previous runs(reset the computational graph)\n",
    "\n",
    "\n",
    "inputs = tf.placeholder(tf.float32, [None,input_size])\n",
    "targets = tf.placeholder(tf.float32, [None, output_size])\n",
    "\n",
    "dropout_rate = tf.placeholder(\"float\")\n",
    "\n",
    "\n",
    "weights_1 = tf.get_variable(\"weights_1\",[input_size, hidden_layer_size],initializer=xaver_init(input_size, hidden_layer_size))\n",
    "biases_1 = tf.get_variable(\"biases_1\",[hidden_layer_size])\n",
    "\n",
    "outputs_1 = tf.nn.relu(tf.matmul(inputs,weights_1)+biases_1)\n",
    "\n",
    "weights_2 = tf.get_variable(\"weights_2\",[hidden_layer_size, output_size],initializer=xaver_init(hidden_layer_size,output_size))\n",
    "biases_2 = tf.get_variable(\"biases_2\",[output_size])\n",
    "\n",
    "\n",
    "# weights_3 = tf.get_variable(\"weights_3\",[input_size, hidden_layer_size],initializer=xaver_init(input_size, hidden_layer_size))\n",
    "# biases_3 = tf.get_variable(\"biases_3\",[hidden_layer_size])\n",
    "\n",
    "# outputs = tf.matmul(outputs_2,weights_3)+biases_3\n",
    "_L1 = tf.nn.relu(tf.add(tf.matmul(inputs,weights_1),biases_1))\n",
    "L1 = tf.nn.dropout(_L1, dropout_rate)\n",
    "_L2 = tf.nn.relu(tf.add(tf.matmul(L1, weights_2),biases_2)) # Hidden layer with ReLU activation\n",
    "L2 = tf.nn.dropout(_L2, dropout_rate)\n",
    "\n",
    "outputs = tf.matmul(outputs_1,weights_2)+biases_2"
   ]
  },
  {
   "cell_type": "code",
   "execution_count": 5,
   "metadata": {},
   "outputs": [
    {
     "name": "stdout",
     "output_type": "stream",
     "text": [
      "WARNING:tensorflow:From <ipython-input-5-1bdbd1894306>:1: softmax_cross_entropy_with_logits (from tensorflow.python.ops.nn_ops) is deprecated and will be removed in a future version.\n",
      "Instructions for updating:\n",
      "\n",
      "Future major versions of TensorFlow will allow gradients to flow\n",
      "into the labels input on backprop by default.\n",
      "\n",
      "See `tf.nn.softmax_cross_entropy_with_logits_v2`.\n",
      "\n",
      "Epoch 1. Training loss: 0.434. Validation loss: 0.240985. Validation accuracy: 93.40%\n",
      "Epoch 2. Training loss: 0.212. Validation loss: 0.174620. Validation accuracy: 95.28%\n",
      "Epoch 3. Training loss: 0.166. Validation loss: 0.152502. Validation accuracy: 95.66%\n",
      "Epoch 4. Training loss: 0.139. Validation loss: 0.129990. Validation accuracy: 96.38%\n",
      "Epoch 5. Training loss: 0.119. Validation loss: 0.120189. Validation accuracy: 96.52%\n",
      "Epoch 6. Training loss: 0.105. Validation loss: 0.111894. Validation accuracy: 96.70%\n",
      "Epoch 7. Training loss: 0.093. Validation loss: 0.108442. Validation accuracy: 96.46%\n",
      "Epoch 8. Training loss: 0.083. Validation loss: 0.102924. Validation accuracy: 97.00%\n",
      "Epoch 9. Training loss: 0.075. Validation loss: 0.102051. Validation accuracy: 96.86%\n",
      "Epoch 10. Training loss: 0.068. Validation loss: 0.104459. Validation accuracy: 96.78%\n",
      "End of training.\n"
     ]
    }
   ],
   "source": [
    "\n",
    "\n",
    "loss = tf.nn.softmax_cross_entropy_with_logits (logits = outputs, labels = targets)\n",
    "\n",
    "mean_loss = tf.reduce_mean(loss)\n",
    "\n",
    "optimize = tf.train.AdamOptimizer(learning_rate=learning_rate).minimize(mean_loss)\n",
    "\n",
    "\n",
    "#Calulate the average of training accuracy of the model\n",
    "\n",
    "out_equals_target = tf.equal(tf.argmax(outputs,1), tf.argmax(targets,1))\n",
    "\n",
    "accuracy = tf.reduce_mean(tf.cast(out_equals_target, tf.float32)) #method that can an object to another data type\n",
    "\n",
    "with tf.Session() as sess:\n",
    "\n",
    "    initializer = tf.global_variables_initializer()\n",
    "\n",
    "    sess.run(initializer)\n",
    "\n",
    "\n",
    "    batch_size = 100\n",
    "\n",
    "    max_epochs = 15\n",
    "\n",
    "    prev_validation_loss = 99999999.\n",
    "\n",
    "\n",
    "    for epoch_counter in range(max_epochs):\n",
    "        curr_epoch_loss = 0.\n",
    "\n",
    "        batches_number = int(mnist.train.num_examples/batch_size)\n",
    "\n",
    "        for batch_counter in range(batches_number):\n",
    "\n",
    "            input_batch, target_batch = mnist.train.next_batch(batch_size)   #loads the batches one after the other \n",
    "\n",
    "            _, batch_loss = sess.run([ optimize,mean_loss],feed_dict={inputs: input_batch, targets: target_batch, dropout_rate: 0.7})\n",
    "\n",
    "            curr_epoch_loss += batch_loss\n",
    "\n",
    "        curr_epoch_loss /= batches_number\n",
    "\n",
    "        input_batch, target_batch = mnist.validation.next_batch(mnist.validation._num_examples)\n",
    "\n",
    "        validation_loss, validation_accuracy = sess.run([mean_loss, accuracy],feed_dict={inputs: input_batch, targets: target_batch, dropout_rate: 0.7})\n",
    "\n",
    "        print('Epoch '+str(epoch_counter+1)+\n",
    "              '. Training loss: '+'{0:.3f}'.format(curr_epoch_loss)+\n",
    "              '. Validation loss: '+'{0:3f}'.format(validation_loss)+\n",
    "              '. Validation accuracy: '+'{0:.2f}'.format(validation_accuracy * 100.)+'%')\n",
    "\n",
    "        if validation_loss>prev_validation_loss :\n",
    "            break\n",
    "\n",
    "        prev_validation_loss = validation_loss\n",
    "\n",
    "\n",
    "    print ('End of training.')"
   ]
  },
  {
   "cell_type": "code",
   "execution_count": null,
   "metadata": {},
   "outputs": [],
   "source": []
  }
 ],
 "metadata": {
  "kernelspec": {
   "display_name": "Python 3",
   "language": "python",
   "name": "python3"
  },
  "language_info": {
   "codemirror_mode": {
    "name": "ipython",
    "version": 3
   },
   "file_extension": ".py",
   "mimetype": "text/x-python",
   "name": "python",
   "nbconvert_exporter": "python",
   "pygments_lexer": "ipython3",
   "version": "3.7.7"
  }
 },
 "nbformat": 4,
 "nbformat_minor": 4
}
