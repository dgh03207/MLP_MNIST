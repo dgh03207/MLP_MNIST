{
 "cells": [
  {
   "cell_type": "code",
   "execution_count": 2,
   "metadata": {},
   "outputs": [
    {
     "name": "stdout",
     "output_type": "stream",
     "text": [
      "WARNING:tensorflow:From C:\\Users\\dgh03\\anaconda3\\lib\\site-packages\\tensorflow\\python\\compat\\v2_compat.py:96: disable_resource_variables (from tensorflow.python.ops.variable_scope) is deprecated and will be removed in a future version.\n",
      "Instructions for updating:\n",
      "non-resource variables are not supported in the long term\n",
      "WARNING:tensorflow:From <ipython-input-2-a81bb8280236>:7: read_data_sets (from tensorflow.examples.tutorials.mnist.input_data) is deprecated and will be removed in a future version.\n",
      "Instructions for updating:\n",
      "Please use alternatives such as: tensorflow_datasets.load('mnist')\n",
      "WARNING:tensorflow:From C:\\Users\\dgh03\\anaconda3\\lib\\site-packages\\tensorflow\\examples\\tutorials\\mnist\\input_data.py:297: _maybe_download (from tensorflow.examples.tutorials.mnist.input_data) is deprecated and will be removed in a future version.\n",
      "Instructions for updating:\n",
      "Please write your own downloading logic.\n",
      "WARNING:tensorflow:From C:\\Users\\dgh03\\anaconda3\\lib\\site-packages\\tensorflow\\examples\\tutorials\\mnist\\input_data.py:299: _extract_images (from tensorflow.examples.tutorials.mnist.input_data) is deprecated and will be removed in a future version.\n",
      "Instructions for updating:\n",
      "Please use tf.data to implement this functionality.\n",
      "Extracting MNIST_data/train-images-idx3-ubyte.gz\n",
      "WARNING:tensorflow:From C:\\Users\\dgh03\\anaconda3\\lib\\site-packages\\tensorflow\\examples\\tutorials\\mnist\\input_data.py:304: _extract_labels (from tensorflow.examples.tutorials.mnist.input_data) is deprecated and will be removed in a future version.\n",
      "Instructions for updating:\n",
      "Please use tf.data to implement this functionality.\n",
      "Extracting MNIST_data/train-labels-idx1-ubyte.gz\n",
      "WARNING:tensorflow:From C:\\Users\\dgh03\\anaconda3\\lib\\site-packages\\tensorflow\\examples\\tutorials\\mnist\\input_data.py:112: _dense_to_one_hot (from tensorflow.examples.tutorials.mnist.input_data) is deprecated and will be removed in a future version.\n",
      "Instructions for updating:\n",
      "Please use tf.one_hot on tensors.\n",
      "Extracting MNIST_data/t10k-images-idx3-ubyte.gz\n",
      "Extracting MNIST_data/t10k-labels-idx1-ubyte.gz\n",
      "WARNING:tensorflow:From C:\\Users\\dgh03\\anaconda3\\lib\\site-packages\\tensorflow\\examples\\tutorials\\mnist\\input_data.py:328: _DataSet.__init__ (from tensorflow.examples.tutorials.mnist.input_data) is deprecated and will be removed in a future version.\n",
      "Instructions for updating:\n",
      "Please use alternatives such as official/mnist/_DataSet.py from tensorflow/models.\n"
     ]
    }
   ],
   "source": [
    "import numpy as np\n",
    "import tensorflow as tf\n",
    "from tensorflow.examples.tutorials.mnist import input_data\n",
    "import tensorflow.compat.v1 as tf\n",
    "tf.disable_v2_behavior()\n",
    "\n",
    "mnist = input_data.read_data_sets(\"MNIST_data/\", one_hot=True)"
   ]
  },
  {
   "cell_type": "code",
   "execution_count": 3,
   "metadata": {},
   "outputs": [],
   "source": [
    "def xaver_init(n_inputs, n_outputs, uniform = True):\n",
    "    if uniform:\n",
    "        init_range = tf.sqrt(6.0/ (n_inputs + n_outputs))\n",
    "        return tf.random_uniform_initializer(-init_range, init_range)\n",
    "\n",
    "    else:\n",
    "        stddev = tf.sqrt(3.0 / (n_inputs + n_outputs))\n",
    "        return tf.truncated_normal_initializer(stddev=stddev)\n"
   ]
  },
  {
   "cell_type": "code",
   "execution_count": null,
   "metadata": {},
   "outputs": [],
   "source": [
    "def mean_squared_error(y, t):\n",
    "    return ((y-t)**2).mean(axis=None)"
   ]
  },
  {
   "cell_type": "code",
   "execution_count": 27,
   "metadata": {},
   "outputs": [],
   "source": [
    "input_size = 784\n",
    "output_size = 10\n",
    "hidden_layer_size = 50\n",
    "learning_rate = 0.001\n"
   ]
  },
  {
   "cell_type": "code",
   "execution_count": 5,
   "metadata": {},
   "outputs": [
    {
     "name": "stdout",
     "output_type": "stream",
     "text": [
      "WARNING:tensorflow:From <ipython-input-5-195e25d9e88e>:24: calling dropout (from tensorflow.python.ops.nn_ops) with keep_prob is deprecated and will be removed in a future version.\n",
      "Instructions for updating:\n",
      "Please use `rate` instead of `keep_prob`. Rate should be set to `rate = 1 - keep_prob`.\n"
     ]
    }
   ],
   "source": [
    "\n",
    "# tf.reset_default_graph()          #clears the memory of all variables left from previous runs(reset the computational graph)\n",
    "\n",
    "\n",
    "inputs = tf.placeholder(tf.float32, [None,input_size])\n",
    "targets = tf.placeholder(tf.float32, [None, output_size])\n",
    "\n",
    "dropout_rate = tf.placeholder(\"float\")\n",
    "\n",
    "\n",
    "weights_1 = tf.get_variable(\"weights_1\",[input_size, hidden_layer_size],initializer=xaver_init(input_size, hidden_layer_size))\n",
    "biases_1 = tf.get_variable(\"biases_1\",[hidden_layer_size])\n",
    "\n",
    "outputs_1 = tf.nn.relu(tf.matmul(inputs,weights_1)+biases_1)\n",
    "\n",
    "weights_2 = tf.get_variable(\"weights_2\",[hidden_layer_size, output_size],initializer=xaver_init(hidden_layer_size,output_size))\n",
    "biases_2 = tf.get_variable(\"biases_2\",[output_size])\n",
    "\n",
    "\n",
    "# weights_3 = tf.get_variable(\"weights_3\",[input_size, hidden_layer_size],initializer=xaver_init(input_size, hidden_layer_size))\n",
    "# biases_3 = tf.get_variable(\"biases_3\",[hidden_layer_size])\n",
    "\n",
    "# outputs = tf.matmul(outputs_2,weights_3)+biases_3\n",
    "_L1 = tf.nn.relu(tf.add(tf.matmul(inputs,weights_1),biases_1))\n",
    "L1 = tf.nn.dropout(_L1, dropout_rate)\n",
    "_L2 = tf.nn.relu(tf.add(tf.matmul(L1, weights_2),biases_2)) # Hidden layer with ReLU activation\n",
    "L2 = tf.nn.dropout(_L2, dropout_rate)\n",
    "\n",
    "outputs = tf.matmul(outputs_1,weights_2)+biases_2"
   ]
  },
  {
   "cell_type": "code",
   "execution_count": 29,
   "metadata": {},
   "outputs": [
    {
     "name": "stdout",
     "output_type": "stream",
     "text": [
      "Epoch 1. Training loss: 0.106. Validation loss: 0.080918. Validation accuracy: 49.90%\n",
      "Epoch 2. Training loss: 0.074. Validation loss: 0.067323. Validation accuracy: 66.38%\n",
      "Epoch 3. Training loss: 0.065. Validation loss: 0.060457. Validation accuracy: 72.86%\n",
      "Epoch 4. Training loss: 0.059. Validation loss: 0.055896. Validation accuracy: 76.56%\n",
      "Epoch 5. Training loss: 0.056. Validation loss: 0.052545. Validation accuracy: 78.82%\n",
      "Epoch 6. Training loss: 0.053. Validation loss: 0.049949. Validation accuracy: 80.24%\n",
      "Epoch 7. Training loss: 0.050. Validation loss: 0.047855. Validation accuracy: 81.08%\n",
      "Epoch 8. Training loss: 0.048. Validation loss: 0.046083. Validation accuracy: 82.32%\n",
      "Epoch 9. Training loss: 0.046. Validation loss: 0.044544. Validation accuracy: 82.82%\n",
      "Epoch 10. Training loss: 0.045. Validation loss: 0.043188. Validation accuracy: 83.42%\n",
      "Epoch 11. Training loss: 0.044. Validation loss: 0.041960. Validation accuracy: 83.84%\n",
      "Epoch 12. Training loss: 0.042. Validation loss: 0.040854. Validation accuracy: 84.40%\n",
      "Epoch 13. Training loss: 0.041. Validation loss: 0.039828. Validation accuracy: 84.90%\n",
      "Epoch 14. Training loss: 0.040. Validation loss: 0.038886. Validation accuracy: 85.54%\n",
      "Epoch 15. Training loss: 0.039. Validation loss: 0.037999. Validation accuracy: 86.00%\n",
      "Epoch 16. Training loss: 0.039. Validation loss: 0.037158. Validation accuracy: 86.38%\n",
      "Epoch 17. Training loss: 0.038. Validation loss: 0.036367. Validation accuracy: 86.86%\n",
      "Epoch 18. Training loss: 0.037. Validation loss: 0.035622. Validation accuracy: 87.08%\n",
      "Epoch 19. Training loss: 0.036. Validation loss: 0.034921. Validation accuracy: 87.44%\n",
      "Epoch 20. Training loss: 0.036. Validation loss: 0.034240. Validation accuracy: 87.52%\n",
      "Epoch 21. Training loss: 0.035. Validation loss: 0.033600. Validation accuracy: 87.84%\n",
      "Epoch 22. Training loss: 0.034. Validation loss: 0.032996. Validation accuracy: 88.08%\n",
      "Epoch 23. Training loss: 0.034. Validation loss: 0.032420. Validation accuracy: 88.10%\n",
      "Epoch 24. Training loss: 0.033. Validation loss: 0.031863. Validation accuracy: 88.34%\n",
      "Epoch 25. Training loss: 0.033. Validation loss: 0.031345. Validation accuracy: 88.36%\n",
      "End of training.\n"
     ]
    }
   ],
   "source": [
    "# loss = tf.nn.softmax_cross_entropy_with_logits (logits = outputs, labels = targets)\n",
    "\n",
    "# mean_loss = tf.reduce_mean(loss)\n",
    "\n",
    "mean_loss = tf.reduce_mean(tf.square(outputs - targets))\n",
    "\n",
    "optimize = tf.train.GradientDescentOptimizer(learning_rate=learning_rate).minimize(mean_loss)\n",
    "\n",
    "\n",
    "#Calulate the average of training accuracy of the model\n",
    "\n",
    "out_equals_target = tf.equal(tf.argmax(outputs,1), tf.argmax(targets,1))\n",
    "\n",
    "accuracy = tf.reduce_mean(tf.cast(out_equals_target, tf.float32)) #method that can an object to another data type\n",
    "\n",
    "with tf.Session() as sess:\n",
    "\n",
    "    initializer = tf.global_variables_initializer()\n",
    "\n",
    "    sess.run(initializer)\n",
    "\n",
    "\n",
    "    batch_size = 100\n",
    "\n",
    "    max_epochs = 25\n",
    "\n",
    "    prev_validation_loss = 99999999.\n",
    "\n",
    "\n",
    "    for epoch_counter in range(max_epochs):\n",
    "        curr_epoch_loss = 0.\n",
    "\n",
    "        batches_number = int(mnist.train.num_examples/batch_size)\n",
    "\n",
    "        for batch_counter in range(batches_number):\n",
    "\n",
    "            input_batch, target_batch = mnist.train.next_batch(batch_size)   #loads the batches one after the other \n",
    "\n",
    "            _, batch_loss = sess.run([ optimize,mean_loss],feed_dict={inputs: input_batch, targets: target_batch, dropout_rate: 0.7})\n",
    "\n",
    "            curr_epoch_loss += batch_loss\n",
    "\n",
    "        curr_epoch_loss /= batches_number\n",
    "\n",
    "        input_batch, target_batch = mnist.validation.next_batch(mnist.validation._num_examples)\n",
    "\n",
    "        validation_loss, validation_accuracy = sess.run([mean_loss, accuracy],feed_dict={inputs: input_batch, targets: target_batch, dropout_rate: 0.7})\n",
    "\n",
    "        print('Epoch '+str(epoch_counter+1)+\n",
    "              '. Training loss: '+'{0:.3f}'.format(curr_epoch_loss)+\n",
    "              '. Validation loss: '+'{0:3f}'.format(validation_loss)+\n",
    "              '. Validation accuracy: '+'{0:.2f}'.format(validation_accuracy * 100.)+'%')\n",
    "\n",
    "        if validation_loss>prev_validation_loss :\n",
    "            break\n",
    "\n",
    "        prev_validation_loss = validation_loss\n",
    "\n",
    "\n",
    "    print ('End of training.')"
   ]
  },
  {
   "cell_type": "code",
   "execution_count": null,
   "metadata": {},
   "outputs": [],
   "source": []
  }
 ],
 "metadata": {
  "kernelspec": {
   "display_name": "Python 3",
   "language": "python",
   "name": "python3"
  },
  "language_info": {
   "codemirror_mode": {
    "name": "ipython",
    "version": 3
   },
   "file_extension": ".py",
   "mimetype": "text/x-python",
   "name": "python",
   "nbconvert_exporter": "python",
   "pygments_lexer": "ipython3",
   "version": "3.7.7"
  }
 },
 "nbformat": 4,
 "nbformat_minor": 4
}
